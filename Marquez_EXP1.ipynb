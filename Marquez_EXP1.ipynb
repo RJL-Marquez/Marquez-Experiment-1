{
 "cells": [
  {
   "cell_type": "markdown",
   "id": "0ce673a9-4a7a-446f-95f9-ef4ba59d2c90",
   "metadata": {},
   "source": [
    "# 1. Alphabet Soup Problem"
   ]
  },
  {
   "cell_type": "code",
   "execution_count": null,
   "id": "80434c94-3dcf-41c7-a30f-ecf897c9ab53",
   "metadata": {},
   "outputs": [],
   "source": [
    "#Alphabet Soup Problem"
   ]
  },
  {
   "cell_type": "code",
   "execution_count": null,
   "id": "c10630e0-35ab-4e77-a85b-d620df71595d",
   "metadata": {},
   "outputs": [],
   "source": [
    "#Creating Input Interface\n",
    "words = input(\"Enter yor word to be sorted: \")"
   ]
  },
  {
   "cell_type": "code",
   "execution_count": null,
   "id": "670d8ee5-5b5f-41cb-aa7b-4d469a3e3884",
   "metadata": {},
   "outputs": [],
   "source": [
    "#Using 'def' to define a function in preparation for sorting\n",
    "def alphabet_soup(words):\n",
    "#Using the 'sorted' function to arrange the letters alphabetically\n",
    "#Using the 'join' function to merge all the elements into one string after being sorted\n",
    "    i = ''.join(sorted(words))\n",
    "    return i\n",
    "#Assigning the function to a variable\n",
    "out = alphabet_soup(words)\n",
    "#Output\n",
    "print(out)"
   ]
  },
  {
   "cell_type": "code",
   "execution_count": null,
   "id": "901cac2a-e836-44fb-8f34-d9bef010d3be",
   "metadata": {},
   "outputs": [],
   "source": [
    "#End of code"
   ]
  },
  {
   "cell_type": "markdown",
   "id": "ba23a603-10c8-4857-9963-814fb1dd3282",
   "metadata": {},
   "source": [
    "# 2. Emoticon Problem"
   ]
  },
  {
   "cell_type": "code",
   "execution_count": null,
   "id": "cc0f6cc2-bd43-449e-80b3-2c27683408d8",
   "metadata": {},
   "outputs": [],
   "source": [
    "#Emoticon Problem"
   ]
  },
  {
   "cell_type": "code",
   "execution_count": null,
   "id": "338e7933-70ca-40df-aee2-ec87eb7df77c",
   "metadata": {},
   "outputs": [],
   "source": [
    "#Creating Input Interference\n",
    "sentence = input(\"Enter text: \")"
   ]
  },
  {
   "cell_type": "code",
   "execution_count": null,
   "id": "656ab36b-85b9-47c9-ab75-2355d4a729b4",
   "metadata": {},
   "outputs": [],
   "source": [
    "#Split the words into separate strings using '.split'\n",
    "i = sentence.split(' ')\n",
    "#Create a dictionary to have a key:value pairs for emoticon conversion\n",
    "emoji_coverter = {\n",
    "        \"smile\":\":)\",\n",
    "        \"grin\":\":D\",\n",
    "        \"sad\":\":((\",\n",
    "        \"mad\":\">:(\"\n",
    "    }\n",
    "#Initializing a blank variable in preparation for the for-loop\n",
    "converted = \"\"\n",
    "#Using for-loop reinstate the statement but with a converted emoticon\n",
    "for word in i:\n",
    "    converted += emoji_coverter.get(word, word) + \" \"\n",
    "#Output\n",
    "print(converted)\n",
    "    "
   ]
  },
  {
   "cell_type": "code",
   "execution_count": null,
   "id": "1641c0c6-ff17-4646-81ed-c7d319d8dafe",
   "metadata": {},
   "outputs": [],
   "source": [
    "#End of code"
   ]
  },
  {
   "cell_type": "markdown",
   "id": "c632a95c-996d-4d8e-a440-39f6fd663196",
   "metadata": {},
   "source": [
    "# 3. Unpacking List Problem"
   ]
  },
  {
   "cell_type": "code",
   "execution_count": 3,
   "id": "098a0b8d-58d1-43de-aa7c-bd9e712ab175",
   "metadata": {},
   "outputs": [],
   "source": [
    "#Unpacking List Problem"
   ]
  },
  {
   "cell_type": "code",
   "execution_count": 60,
   "id": "6804db57-0655-4080-9ea2-954dc2f88ff1",
   "metadata": {},
   "outputs": [
    {
     "name": "stdin",
     "output_type": "stream",
     "text": [
      "Enter a number:  1\n",
      "Add more number? (y/n):  y\n",
      "Enter a number:  2\n",
      "Add more number? (y/n):  y\n",
      "Enter a number:  3\n",
      "Add more number? (y/n):  n\n"
     ]
    },
    {
     "name": "stdout",
     "output_type": "stream",
     "text": [
      "first:  1 \t middle:  [2] \t      last:  3\n"
     ]
    }
   ],
   "source": [
    "#Create a placeholder for the number list\n",
    "numberlist = []\n",
    "#Create an interval variable for for-loop\n",
    "x=0\n",
    "#Create a for-loop for users to input their numbers\n",
    "while True:\n",
    "    number = int(input(\"Enter a number: \"))\n",
    "    numberlist.append(number)\n",
    "#The loop will constantly add integers to the list\n",
    "    x=x+1\n",
    "#User have the freedom to choose whether to add more numbers or stop   \n",
    "    choice = input(\"Add more number? (y/n): \")\n",
    "    if choice.casefold() == 'n':\n",
    "        break\n",
    "\n",
    "#Assigning the first and last number from the list into separate variables\n",
    "first=numberlist[0]\n",
    "last=numberlist[x-1]\n",
    "\n",
    "#Deleting the first and the last number from the list\n",
    "del numberlist [0]\n",
    "del numberlist [x-2]\n",
    "\n",
    "#Output\n",
    "print(\"first: \", first, \"\\t middle: \", numberlist, \"\\t      last: \", last)"
   ]
  },
  {
   "cell_type": "code",
   "execution_count": null,
   "id": "9bd6fecc-cff2-4b43-bf35-16fc5e7e0c46",
   "metadata": {},
   "outputs": [],
   "source": [
    "#End of code"
   ]
  }
 ],
 "metadata": {
  "kernelspec": {
   "display_name": "Python 3 (ipykernel)",
   "language": "python",
   "name": "python3"
  },
  "language_info": {
   "codemirror_mode": {
    "name": "ipython",
    "version": 3
   },
   "file_extension": ".py",
   "mimetype": "text/x-python",
   "name": "python",
   "nbconvert_exporter": "python",
   "pygments_lexer": "ipython3",
   "version": "3.12.4"
  }
 },
 "nbformat": 4,
 "nbformat_minor": 5
}
