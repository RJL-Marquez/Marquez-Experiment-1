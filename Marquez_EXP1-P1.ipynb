{
 "cells": [
  {
   "cell_type": "code",
   "execution_count": 1,
   "id": "80434c94-3dcf-41c7-a30f-ecf897c9ab53",
   "metadata": {},
   "outputs": [],
   "source": [
    "#Alphabet Soup Problem"
   ]
  },
  {
   "cell_type": "code",
   "execution_count": 3,
   "id": "c10630e0-35ab-4e77-a85b-d620df71595d",
   "metadata": {},
   "outputs": [
    {
     "name": "stdin",
     "output_type": "stream",
     "text": [
      "Enter yor word to be sorted:  hello\n"
     ]
    }
   ],
   "source": [
    "#Creating Input Interface\n",
    "words = input(\"Enter yor word to be sorted: \")"
   ]
  },
  {
   "cell_type": "code",
   "execution_count": 4,
   "id": "670d8ee5-5b5f-41cb-aa7b-4d469a3e3884",
   "metadata": {},
   "outputs": [
    {
     "name": "stdout",
     "output_type": "stream",
     "text": [
      "ehllo\n"
     ]
    }
   ],
   "source": [
    "#Using 'def' to define a function in preparation for sorting\n",
    "def sorting(words):\n",
    "#Using the 'sorted' function to arrange the letters alphabetically\n",
    "#Using the 'join' function to merge all the elements into 1 string after being sorted\n",
    "    i = ''.join(sorted(words))\n",
    "    return i\n",
    "#Assigning the function to a variable\n",
    "out = sorting(words)\n",
    "#Output\n",
    "print(out)"
   ]
  },
  {
   "cell_type": "code",
   "execution_count": null,
   "id": "901cac2a-e836-44fb-8f34-d9bef010d3be",
   "metadata": {},
   "outputs": [],
   "source": []
  }
 ],
 "metadata": {
  "kernelspec": {
   "display_name": "Python 3 (ipykernel)",
   "language": "python",
   "name": "python3"
  },
  "language_info": {
   "codemirror_mode": {
    "name": "ipython",
    "version": 3
   },
   "file_extension": ".py",
   "mimetype": "text/x-python",
   "name": "python",
   "nbconvert_exporter": "python",
   "pygments_lexer": "ipython3",
   "version": "3.12.4"
  }
 },
 "nbformat": 4,
 "nbformat_minor": 5
}
